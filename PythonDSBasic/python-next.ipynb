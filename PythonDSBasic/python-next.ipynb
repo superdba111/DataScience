{
 "cells": [
  {
   "cell_type": "markdown",
   "metadata": {},
   "source": [
    "### 你想遍历一个可迭代对象中的所有元素，但是却不想使用for循环。\n",
    "use case:\n",
    "def manual_iter():\n",
    "    with open('/etc/passwd') as f:\n",
    "        try:\n",
    "            while True:\n",
    "                line = next(f)\n",
    "                print(line, end='')\n",
    "        except StopIteration:\n",
    "            pass"
   ]
  },
  {
   "cell_type": "code",
   "execution_count": 1,
   "metadata": {},
   "outputs": [
    {
     "data": {
      "text/plain": [
       "2"
      ]
     },
     "execution_count": 1,
     "metadata": {},
     "output_type": "execute_result"
    }
   ],
   "source": [
    "items = [1, 2, 3]\n",
    "# Get the iterator\n",
    "it = iter(items) # Invokes items.__iter__()\n",
    "next(it)\n",
    "next(it)"
   ]
  },
  {
   "cell_type": "code",
   "execution_count": 2,
   "metadata": {},
   "outputs": [
    {
     "name": "stdout",
     "output_type": "stream",
     "text": [
      "Node(1)\n",
      "Node(2)\n"
     ]
    }
   ],
   "source": [
    "class Node:\n",
    "    def __init__(self, value):\n",
    "        self._value = value\n",
    "        self._children = []\n",
    "\n",
    "    def __repr__(self):\n",
    "        return 'Node({!r})'.format(self._value)\n",
    "\n",
    "    def add_child(self, node):\n",
    "        self._children.append(node)\n",
    "\n",
    "    def __iter__(self):\n",
    "        return iter(self._children)\n",
    "\n",
    "# Example\n",
    "if __name__ == '__main__':\n",
    "    root = Node(0)\n",
    "    child1 = Node(1)\n",
    "    child2 = Node(2)\n",
    "    root.add_child(child1)\n",
    "    root.add_child(child2)\n",
    "    # Outputs Node(1), Node(2)\n",
    "    for ch in root:\n",
    "        print(ch)"
   ]
  },
  {
   "cell_type": "code",
   "execution_count": 3,
   "metadata": {},
   "outputs": [
    {
     "name": "stdout",
     "output_type": "stream",
     "text": [
      "4\n",
      "3\n",
      "2\n",
      "1\n"
     ]
    }
   ],
   "source": [
    "a = [1, 2, 3, 4]\n",
    "for x in reversed(a):\n",
    "     print(x)"
   ]
  },
  {
   "cell_type": "code",
   "execution_count": 4,
   "metadata": {},
   "outputs": [
    {
     "name": "stdout",
     "output_type": "stream",
     "text": [
      "('a', 'b', 'c')\n",
      "('a', 'c', 'b')\n",
      "('b', 'a', 'c')\n",
      "('b', 'c', 'a')\n",
      "('c', 'a', 'b')\n",
      "('c', 'b', 'a')\n"
     ]
    }
   ],
   "source": [
    "items = ['a', 'b', 'c']\n",
    "from itertools import permutations\n",
    "for p in permutations(items):\n",
    "     print(p)"
   ]
  },
  {
   "cell_type": "code",
   "execution_count": 5,
   "metadata": {},
   "outputs": [
    {
     "name": "stdout",
     "output_type": "stream",
     "text": [
      "0 a\n",
      "1 b\n",
      "2 c\n"
     ]
    }
   ],
   "source": [
    "my_list = ['a', 'b', 'c']\n",
    "for idx, val in enumerate(my_list):\n",
    "     print(idx, val)"
   ]
  },
  {
   "cell_type": "code",
   "execution_count": 6,
   "metadata": {},
   "outputs": [
    {
     "name": "stdout",
     "output_type": "stream",
     "text": [
      "1 a\n",
      "2 b\n",
      "3 c\n"
     ]
    }
   ],
   "source": [
    "my_list = ['a', 'b', 'c']\n",
    "for idx, val in enumerate(my_list, 1):\n",
    "     print(idx, val)"
   ]
  },
  {
   "cell_type": "code",
   "execution_count": 7,
   "metadata": {},
   "outputs": [
    {
     "name": "stdout",
     "output_type": "stream",
     "text": [
      "(1, 'w')\n",
      "(2, 'x')\n",
      "(3, 'y')\n"
     ]
    }
   ],
   "source": [
    "a = [1, 2, 3]\n",
    "b = ['w', 'x', 'y', 'z']\n",
    "for i in zip(a,b):\n",
    "     print(i)"
   ]
  },
  {
   "cell_type": "code",
   "execution_count": 8,
   "metadata": {},
   "outputs": [
    {
     "name": "stdout",
     "output_type": "stream",
     "text": [
      "(1, 'w')\n",
      "(2, 'x')\n",
      "(3, 'y')\n",
      "(None, 'z')\n"
     ]
    }
   ],
   "source": [
    "from itertools import zip_longest\n",
    "for i in zip_longest(a,b):\n",
    "     print(i)"
   ]
  },
  {
   "cell_type": "code",
   "execution_count": 9,
   "metadata": {},
   "outputs": [
    {
     "name": "stdout",
     "output_type": "stream",
     "text": [
      "1\n",
      "2\n",
      "3\n",
      "4\n",
      "x\n",
      "y\n",
      "z\n"
     ]
    }
   ],
   "source": [
    "from itertools import chain\n",
    "a = [1, 2, 3, 4]\n",
    "b = ['x', 'y', 'z']\n",
    "for x in chain(a, b):\n",
    "     print(x)"
   ]
  },
  {
   "cell_type": "markdown",
   "metadata": {},
   "source": [
    "你想以数据管道(类似Unix管道)的方式迭代处理数据。 比如，你有个大量的数据需要处理，但是不能将它们一次性放入内存中。\n",
    "\n",
    "解决方案\n",
    "生成器函数是一个实现管道机制的好办法。 为了演示，假定你要处理一个非常大的日志文件目录：\n",
    "\n",
    "foo/\n",
    "    access-log-012007.gz\n",
    "    access-log-022007.gz\n",
    "    access-log-032007.gz\n",
    "    ...\n",
    "    access-log-012008\n",
    "bar/\n",
    "    access-log-092007.bz2\n",
    "    ...\n",
    "    access-log-022008\n",
    "假设每个日志文件包含这样的数据：\n",
    "\n",
    "124.115.6.12 - - [10/Jul/2012:00:18:50 -0500] \"GET /robots.txt ...\" 200 71\n",
    "210.212.209.67 - - [10/Jul/2012:00:18:51 -0500] \"GET /ply/ ...\" 200 11875\n",
    "210.212.209.67 - - [10/Jul/2012:00:18:51 -0500] \"GET /favicon.ico ...\" 404 369\n",
    "61.135.216.105 - - [10/Jul/2012:00:20:04 -0500] \"GET /blog/atom.xml ...\" 304 -\n",
    "...\n",
    "为了处理这些文件，你可以定义一个由多个执行特定任务独立任务的简单生成器函数组成的容器。就像这样：\n",
    "\n",
    "import os\n",
    "import fnmatch\n",
    "import gzip\n",
    "import bz2\n",
    "import re\n",
    "\n",
    "def gen_find(filepat, top):\n",
    "    '''\n",
    "    Find all filenames in a directory tree that match a shell wildcard pattern\n",
    "    '''\n",
    "    for path, dirlist, filelist in os.walk(top):\n",
    "        for name in fnmatch.filter(filelist, filepat):\n",
    "            yield os.path.join(path,name)\n",
    "\n",
    "def gen_opener(filenames):\n",
    "    '''\n",
    "    Open a sequence of filenames one at a time producing a file object.\n",
    "    The file is closed immediately when proceeding to the next iteration.\n",
    "    '''\n",
    "    for filename in filenames:\n",
    "        if filename.endswith('.gz'):\n",
    "            f = gzip.open(filename, 'rt')\n",
    "        elif filename.endswith('.bz2'):\n",
    "            f = bz2.open(filename, 'rt')\n",
    "        else:\n",
    "            f = open(filename, 'rt')\n",
    "        yield f\n",
    "        f.close()\n",
    "\n",
    "def gen_concatenate(iterators):\n",
    "    '''\n",
    "    Chain a sequence of iterators together into a single sequence.\n",
    "    '''\n",
    "    for it in iterators:\n",
    "        yield from it\n",
    "\n",
    "def gen_grep(pattern, lines):\n",
    "    '''\n",
    "    Look for a regex pattern in a sequence of lines\n",
    "    '''\n",
    "    pat = re.compile(pattern)\n",
    "    for line in lines:\n",
    "        if pat.search(line):\n",
    "            yield line\n",
    "现在你可以很容易的将这些函数连起来创建一个处理管道。 比如，为了查找包含单词python的所有日志行，你可以这样做：\n",
    "\n",
    "lognames = gen_find('access-log*', 'www')\n",
    "files = gen_opener(lognames)\n",
    "lines = gen_concatenate(files)\n",
    "pylines = gen_grep('(?i)python', lines)\n",
    "for line in pylines:\n",
    "    print(line)\n",
    "如果将来的时候你想扩展管道，你甚至可以在生成器表达式中包装数据。 比如，下面这个版本计算出传输的字节数并计算其总和。\n",
    "\n",
    "lognames = gen_find('access-log*', 'www')\n",
    "files = gen_opener(lognames)\n",
    "lines = gen_concatenate(files)\n",
    "pylines = gen_grep('(?i)python', lines)\n",
    "bytecolumn = (line.rsplit(None,1)[1] for line in pylines)\n",
    "bytes = (int(x) for x in bytecolumn if x != '-')\n",
    "print('Total', sum(bytes))"
   ]
  },
  {
   "cell_type": "markdown",
   "metadata": {},
   "source": [
    "### 你想将一个多层嵌套的序列展开成一个单层列表"
   ]
  },
  {
   "cell_type": "code",
   "execution_count": 10,
   "metadata": {},
   "outputs": [
    {
     "name": "stdout",
     "output_type": "stream",
     "text": [
      "1\n",
      "2\n",
      "3\n",
      "4\n",
      "5\n",
      "6\n",
      "7\n",
      "8\n"
     ]
    }
   ],
   "source": [
    "from collections import Iterable\n",
    "\n",
    "def flatten(items, ignore_types=(str, bytes)):\n",
    "    for x in items:\n",
    "        if isinstance(x, Iterable) and not isinstance(x, ignore_types):\n",
    "            yield from flatten(x)\n",
    "        else:\n",
    "            yield x\n",
    "\n",
    "items = [1, 2, [3, 4, [5, 6], 7], 8]\n",
    "# Produces 1 2 3 4 5 6 7 8\n",
    "for x in flatten(items):\n",
    "    print(x)"
   ]
  },
  {
   "cell_type": "markdown",
   "metadata": {},
   "source": [
    "### 有一系列排序序列，想将它们合并后得到一个排序序列并在上面迭代遍历。"
   ]
  },
  {
   "cell_type": "code",
   "execution_count": null,
   "metadata": {},
   "outputs": [],
   "source": []
  }
 ],
 "metadata": {
  "kernelspec": {
   "display_name": "Python 3",
   "language": "python",
   "name": "python3"
  },
  "language_info": {
   "codemirror_mode": {
    "name": "ipython",
    "version": 3
   },
   "file_extension": ".py",
   "mimetype": "text/x-python",
   "name": "python",
   "nbconvert_exporter": "python",
   "pygments_lexer": "ipython3",
   "version": "3.6.5"
  }
 },
 "nbformat": 4,
 "nbformat_minor": 2
}
