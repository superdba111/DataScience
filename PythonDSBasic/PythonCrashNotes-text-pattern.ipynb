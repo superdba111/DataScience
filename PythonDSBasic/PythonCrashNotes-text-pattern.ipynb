{
 "cells": [
  {
   "cell_type": "markdown",
   "metadata": {},
   "source": [
    "### 你需要以忽略大小写的方式搜索与替换文本字符串"
   ]
  },
  {
   "cell_type": "code",
   "execution_count": 4,
   "metadata": {},
   "outputs": [
    {
     "name": "stdout",
     "output_type": "stream",
     "text": [
      "['PYTHON', 'python', 'Python']\n",
      "UPPER snake, lower snake, Mixed snake\n",
      "UPPER SNAKE, lower snake, Mixed Snake\n"
     ]
    }
   ],
   "source": [
    "import re\n",
    "text = 'UPPER PYTHON, lower python, Mixed Python'\n",
    "test=re.findall('python', text, flags=re.IGNORECASE)\n",
    "print(test)\n",
    "\n",
    "test1=re.sub('python', 'snake', text, flags=re.IGNORECASE)\n",
    "print(test1)\n",
    "\n",
    "def matchcase(word):\n",
    "    def replace(m):\n",
    "        text = m.group()\n",
    "        if text.isupper():\n",
    "            return word.upper()\n",
    "        elif text.islower():\n",
    "            return word.lower()\n",
    "        elif text[0].isupper():\n",
    "            return word.capitalize()\n",
    "        else:\n",
    "            return word\n",
    "    return replace\n",
    "\n",
    "test2=re.sub('python', matchcase('snake'), text, flags=re.IGNORECASE)\n",
    "print(test2)"
   ]
  },
  {
   "cell_type": "markdown",
   "metadata": {},
   "source": [
    "### 你正在试着用正则表达式匹配某个文本模式，但是它找到的是模式的最长可能匹配。 而你想修改它变成查找最短的可能匹配"
   ]
  },
  {
   "cell_type": "code",
   "execution_count": 6,
   "metadata": {},
   "outputs": [
    {
     "name": "stdout",
     "output_type": "stream",
     "text": [
      "['no.']\n",
      "['no.\" Phone says \"yes.']\n",
      "['no.', 'yes.']\n"
     ]
    }
   ],
   "source": [
    "str_pat = re.compile(r'\"(.*)\"')\n",
    "text1 = 'Computer says \"no.\"'\n",
    "print(str_pat.findall(text1))\n",
    "text2 = 'Computer says \"no.\" Phone says \"yes.\"'\n",
    "print(str_pat.findall(text2))\n",
    "str_pat1 = re.compile(r'\"(.*?)\"')\n",
    "print(str_pat1.findall(text2))"
   ]
  },
  {
   "cell_type": "markdown",
   "metadata": {},
   "source": [
    "### 你正在试着使用正则表达式去匹配一大块的文本，而你需要跨越多行去匹配\n",
    "re.compile() 函数接受一个标志参数叫 re.DOTALL ，在这里非常有用。 它可以让正则表达式中的点(.)匹配包括换行符在内的任意字符"
   ]
  },
  {
   "cell_type": "code",
   "execution_count": 10,
   "metadata": {},
   "outputs": [
    {
     "name": "stdout",
     "output_type": "stream",
     "text": [
      "[' this is a comment ']\n",
      "[]\n",
      "[' this is a\\n multiline comment ']\n",
      "[' this is a\\n multiline comment ']\n"
     ]
    }
   ],
   "source": [
    "text1 = '/* this is a comment */'\n",
    "text2 = '''/* this is a\n",
    " multiline comment */\n",
    "'''\n",
    "\n",
    "comment1 = re.compile(r'/\\*(.*?)\\*/')\n",
    "print(comment1.findall(text1))\n",
    "print(comment1.findall(text2))\n",
    "\n",
    "comment = re.compile(r'/\\*((?:.|\\n)*?)\\*/')\n",
    "print(comment.findall(text2))\n",
    "\n",
    "comment2 = re.compile(r'/\\*(.*?)\\*/', re.DOTALL)\n",
    "print(comment2.findall(text2))"
   ]
  },
  {
   "cell_type": "markdown",
   "metadata": {},
   "source": [
    "### 你正在处理Unicode字符串，需要确保所有字符串在底层有相同的表示"
   ]
  },
  {
   "cell_type": "code",
   "execution_count": 14,
   "metadata": {},
   "outputs": [
    {
     "name": "stdout",
     "output_type": "stream",
     "text": [
      "Spicy Jalapeño its length is 14\n",
      "Spicy Jalapeño its length is 15\n",
      "True\n",
      "Spicy Jalapeno\n"
     ]
    }
   ],
   "source": [
    "s1 = 'Spicy Jalape\\u00f1o'\n",
    "s2 = 'Spicy Jalapen\\u0303o'\n",
    "print(s1+\" \"+\"its length is \"+ str(len(s1)))\n",
    "print(s2+\" \"+\"its length is \"+ str(len(s2)))\n",
    "\n",
    "import unicodedata\n",
    "t1 = unicodedata.normalize('NFC', s1)\n",
    "t2 = unicodedata.normalize('NFC', s2)\n",
    "print(t1 == t2)\n",
    "\n",
    "t1 = unicodedata.normalize('NFD', s1)\n",
    "t3=''.join(c for c in t1 if not unicodedata.combining(c))\n",
    "print(t3)"
   ]
  },
  {
   "cell_type": "markdown",
   "metadata": {},
   "source": [
    "### 你正在使用正则表达式处理文本，但是关注的是Unicode字符处理\n",
    "混合使用Unicode和正则表达式通常会让你抓狂。 如果你真的打算这样做的话，最好考虑下安装第三方正则式库， 它们会为Unicode的大小写转换和其他大量有趣特性提供全面的支持，包括模糊匹配"
   ]
  },
  {
   "cell_type": "code",
   "execution_count": 15,
   "metadata": {},
   "outputs": [
    {
     "name": "stdout",
     "output_type": "stream",
     "text": [
      "STRASSE\n"
     ]
    }
   ],
   "source": [
    "import re\n",
    "num = re.compile('\\d+')\n",
    "# ASCII digits\n",
    "num.match('123')\n",
    "\n",
    "arabic = re.compile('[\\u0600-\\u06ff\\u0750-\\u077f\\u08a0-\\u08ff]+')\n",
    "pat = re.compile('stra\\u00dfe', re.IGNORECASE)\n",
    "s = 'straße'\n",
    "pat.match(s.upper())\n",
    "print(s.upper())"
   ]
  },
  {
   "cell_type": "markdown",
   "metadata": {},
   "source": [
    "### 你想去掉文本字符串开头，结尾或者中间不想要的字符，比如空白\n",
    "use case:\n"
   ]
  },
  {
   "cell_type": "code",
   "execution_count": 16,
   "metadata": {},
   "outputs": [
    {
     "name": "stdout",
     "output_type": "stream",
     "text": [
      "hello world\n",
      "hello world \n",
      "\n",
      " hello world\n",
      "hello=====\n",
      "hello\n"
     ]
    }
   ],
   "source": [
    "# Whitespace stripping\n",
    "s = ' hello world \\n'\n",
    "\n",
    "print(s.strip())\n",
    "\n",
    "print(s.lstrip())\n",
    "\n",
    "print(s.rstrip())\n",
    "\n",
    "# Character stripping\n",
    "t = '-----hello====='\n",
    "print(t.lstrip('-'))\n",
    "\n",
    "print(t.strip('-='))"
   ]
  },
  {
   "cell_type": "code",
   "execution_count": null,
   "metadata": {},
   "outputs": [],
   "source": []
  }
 ],
 "metadata": {
  "kernelspec": {
   "display_name": "Python 3",
   "language": "python",
   "name": "python3"
  },
  "language_info": {
   "codemirror_mode": {
    "name": "ipython",
    "version": 3
   },
   "file_extension": ".py",
   "mimetype": "text/x-python",
   "name": "python",
   "nbconvert_exporter": "python",
   "pygments_lexer": "ipython3",
   "version": "3.6.5"
  }
 },
 "nbformat": 4,
 "nbformat_minor": 2
}
